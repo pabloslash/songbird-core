{
 "cells": [
  {
   "cell_type": "markdown",
   "id": "35c75cce-db72-43cf-8768-1ba586ff197c",
   "metadata": {},
   "source": [
    "**You**: \n",
    "I have an algorithm that is trained on the data X. I know the new data Y is just a transformation of X, and I want to use the same algorithm on data Y. \n",
    "However, to do so, I need to transform the data Y so that it is aligned to X. But the algorithm is trained to work in the space of X, \n",
    "not in the common canonical space of X_c, Y_c. How can I use CCA to transform Y into the space of X?\n",
    "\n",
    "\n",
    "**GPT**: \n",
    "\n",
    "To use Canonical Correlation Analysis (CCA) to transform new data Y into the space of X so that it is aligned for the application of an algorithm trained on X, you need to follow several steps. CCA is a technique used to find the relationships between two datasets and can be particularly useful when you want to project a new dataset into a space where another dataset resides, under the assumption that both datasets have been derived from some transformations of underlying common variables.\n",
    "\n",
    "Here’s a step-by-step guide on how you can achieve this:\n",
    "\n",
    "**Understand Your Data**:\n",
    "Ensure that X and Y are related in a meaningful way, ideally representing different views or measurements of the same underlying phenomena.\n",
    "\n",
    "**Preprocess the Data**:\n",
    "Standardize both X and Y by subtracting the mean and dividing by the standard deviation of each feature. This normalization is important because CCA is sensitive to the scales of the data.\n",
    "\n",
    "**Apply CCA**:\n",
    "Fit a CCA model to the original training data X and the transformed data Y. This step will find linear combinations of the variables in X and Y that are maximally correlated.\n",
    "\n",
    "Let’s denote the canonical variables for X as Xc and for Y as Yc. \n",
    "\n",
    "**Transformation of Y**:\n",
    "To transform Y into the space of X, use the transformation matrix obtained from the CCA fitting step. This matrix is derived from the eigenvectors corresponding to the highest canonical correlations.\n",
    "\n",
    "Specifically, if A is the transformation matrix for X and B is the transformation matrix for Y derived from CCA, you would project Y using matrix B to get Yc. However, since your goal is to align Y with X directly and the model is trained on X, you need to transform Yc further to match the space of X. \n",
    "\n",
    "**Align Yc with X**:\n",
    "The alignment step can be challenging because Xc and Yc are in their own separate canonical spaces. You need to understand the relationship between these spaces. Typically, if the model trained on X needs to be applied on Y, you might consider transforming Y directly using the transformation matrix A (from X) or finding a mapping from Yc to X space.\n",
    "This might require additional analysis or possibly training a secondary model to learn the mapping from Yc to X.\n",
    "\n",
    "**Validation**:\n",
    "Validate the transformed Y data by applying the trained model on X to it and checking performance metrics to ensure that the transformation maintains the essential characteristics and predictive quality.\n",
    "If you’re implementing this in Python, libraries like sklearn have built-in support for Canonical Correlation Analysis (CCA) through the CCA class in the cross_decomposition module, which can simplify these steps technically.\n",
    "\n",
    "This process assumes a linear relationship modeled by CCA is sufficient to align the data appropriately. If your data exhibits non-linear relationships, you might need to consider more complex methods like kernel CCA.\n"
   ]
  },
  {
   "cell_type": "code",
   "execution_count": 1,
   "id": "4195a2ec-63d3-429f-a90a-cb09391da3e7",
   "metadata": {},
   "outputs": [],
   "source": [
    "from sklearn.cross_decomposition import CCA\n",
    "import numpy as np"
   ]
  },
  {
   "cell_type": "code",
   "execution_count": 2,
   "id": "b7fba256-558d-40df-8a31-1fb45c343a59",
   "metadata": {},
   "outputs": [
    {
     "data": {
      "text/plain": [
       "((4, 3), (4, 3))"
      ]
     },
     "execution_count": 2,
     "metadata": {},
     "output_type": "execute_result"
    }
   ],
   "source": [
    "# X : array-like of shape (n_samples, n_features)\n",
    "#     Samples to transform.\n",
    "\n",
    "# Y : array-like of shape (n_samples, n_targets), default=None\n",
    "#     Target vectors.\n",
    "\n",
    "X = np.array([[0., 0., 1.], [1.,0.,0.], [2.,2.,2.], [3.,5.,4.]])\n",
    "# Y = np.array([[0., 0., 2.], [2.,0.,0.], [3.,3.,3.], [4.,6.,5.]])\n",
    "Y = np.array([[0.1, 0.1, 1.], [1.1,-0.1,-0.1], [2.,2.,2.2], [2.9,5.2,4.]])\n",
    "\n",
    "\n",
    "\n",
    "X.shape, Y.shape"
   ]
  },
  {
   "cell_type": "code",
   "execution_count": 3,
   "id": "5d6eb128-ee23-42bd-b52f-999c037355a4",
   "metadata": {},
   "outputs": [],
   "source": [
    "n_components = 3\n",
    "cca = CCA(n_components=n_components)\n",
    "cca.fit(X, Y)\n",
    "X_c, Y_c = cca.transform(X, Y)"
   ]
  },
  {
   "cell_type": "code",
   "execution_count": 4,
   "id": "28cb3298-f4c4-4144-a003-61443f5d8647",
   "metadata": {},
   "outputs": [
    {
     "data": {
      "text/plain": [
       "\u001b[0;31mSignature:\u001b[0m \u001b[0mcca\u001b[0m\u001b[0;34m.\u001b[0m\u001b[0mtransform\u001b[0m\u001b[0;34m(\u001b[0m\u001b[0mX\u001b[0m\u001b[0;34m,\u001b[0m \u001b[0mY\u001b[0m\u001b[0;34m=\u001b[0m\u001b[0;32mNone\u001b[0m\u001b[0;34m,\u001b[0m \u001b[0mcopy\u001b[0m\u001b[0;34m=\u001b[0m\u001b[0;32mTrue\u001b[0m\u001b[0;34m)\u001b[0m\u001b[0;34m\u001b[0m\u001b[0;34m\u001b[0m\u001b[0m\n",
       "\u001b[0;31mSource:\u001b[0m   \n",
       "    \u001b[0;32mdef\u001b[0m \u001b[0mtransform\u001b[0m\u001b[0;34m(\u001b[0m\u001b[0mself\u001b[0m\u001b[0;34m,\u001b[0m \u001b[0mX\u001b[0m\u001b[0;34m,\u001b[0m \u001b[0mY\u001b[0m\u001b[0;34m=\u001b[0m\u001b[0;32mNone\u001b[0m\u001b[0;34m,\u001b[0m \u001b[0mcopy\u001b[0m\u001b[0;34m=\u001b[0m\u001b[0;32mTrue\u001b[0m\u001b[0;34m)\u001b[0m\u001b[0;34m:\u001b[0m\u001b[0;34m\u001b[0m\n",
       "\u001b[0;34m\u001b[0m        \u001b[0;34m\"\"\"Apply the dimension reduction.\u001b[0m\n",
       "\u001b[0;34m\u001b[0m\n",
       "\u001b[0;34m        Parameters\u001b[0m\n",
       "\u001b[0;34m        ----------\u001b[0m\n",
       "\u001b[0;34m        X : array-like of shape (n_samples, n_features)\u001b[0m\n",
       "\u001b[0;34m            Samples to transform.\u001b[0m\n",
       "\u001b[0;34m\u001b[0m\n",
       "\u001b[0;34m        Y : array-like of shape (n_samples, n_targets), default=None\u001b[0m\n",
       "\u001b[0;34m            Target vectors.\u001b[0m\n",
       "\u001b[0;34m\u001b[0m\n",
       "\u001b[0;34m        copy : bool, default=True\u001b[0m\n",
       "\u001b[0;34m            Whether to copy `X` and `Y`, or perform in-place normalization.\u001b[0m\n",
       "\u001b[0;34m\u001b[0m\n",
       "\u001b[0;34m        Returns\u001b[0m\n",
       "\u001b[0;34m        -------\u001b[0m\n",
       "\u001b[0;34m        x_scores, y_scores : array-like or tuple of array-like\u001b[0m\n",
       "\u001b[0;34m            Return `x_scores` if `Y` is not given, `(x_scores, y_scores)` otherwise.\u001b[0m\n",
       "\u001b[0;34m        \"\"\"\u001b[0m\u001b[0;34m\u001b[0m\n",
       "\u001b[0;34m\u001b[0m        \u001b[0mcheck_is_fitted\u001b[0m\u001b[0;34m(\u001b[0m\u001b[0mself\u001b[0m\u001b[0;34m)\u001b[0m\u001b[0;34m\u001b[0m\n",
       "\u001b[0;34m\u001b[0m        \u001b[0mX\u001b[0m \u001b[0;34m=\u001b[0m \u001b[0mself\u001b[0m\u001b[0;34m.\u001b[0m\u001b[0m_validate_data\u001b[0m\u001b[0;34m(\u001b[0m\u001b[0mX\u001b[0m\u001b[0;34m,\u001b[0m \u001b[0mcopy\u001b[0m\u001b[0;34m=\u001b[0m\u001b[0mcopy\u001b[0m\u001b[0;34m,\u001b[0m \u001b[0mdtype\u001b[0m\u001b[0;34m=\u001b[0m\u001b[0mFLOAT_DTYPES\u001b[0m\u001b[0;34m,\u001b[0m \u001b[0mreset\u001b[0m\u001b[0;34m=\u001b[0m\u001b[0;32mFalse\u001b[0m\u001b[0;34m)\u001b[0m\u001b[0;34m\u001b[0m\n",
       "\u001b[0;34m\u001b[0m        \u001b[0;31m# Normalize\u001b[0m\u001b[0;34m\u001b[0m\n",
       "\u001b[0;34m\u001b[0m        \u001b[0mX\u001b[0m \u001b[0;34m-=\u001b[0m \u001b[0mself\u001b[0m\u001b[0;34m.\u001b[0m\u001b[0m_x_mean\u001b[0m\u001b[0;34m\u001b[0m\n",
       "\u001b[0;34m\u001b[0m        \u001b[0mX\u001b[0m \u001b[0;34m/=\u001b[0m \u001b[0mself\u001b[0m\u001b[0;34m.\u001b[0m\u001b[0m_x_std\u001b[0m\u001b[0;34m\u001b[0m\n",
       "\u001b[0;34m\u001b[0m        \u001b[0;31m# Apply rotation\u001b[0m\u001b[0;34m\u001b[0m\n",
       "\u001b[0;34m\u001b[0m        \u001b[0mx_scores\u001b[0m \u001b[0;34m=\u001b[0m \u001b[0mnp\u001b[0m\u001b[0;34m.\u001b[0m\u001b[0mdot\u001b[0m\u001b[0;34m(\u001b[0m\u001b[0mX\u001b[0m\u001b[0;34m,\u001b[0m \u001b[0mself\u001b[0m\u001b[0;34m.\u001b[0m\u001b[0mx_rotations_\u001b[0m\u001b[0;34m)\u001b[0m\u001b[0;34m\u001b[0m\n",
       "\u001b[0;34m\u001b[0m        \u001b[0;32mif\u001b[0m \u001b[0mY\u001b[0m \u001b[0;32mis\u001b[0m \u001b[0;32mnot\u001b[0m \u001b[0;32mNone\u001b[0m\u001b[0;34m:\u001b[0m\u001b[0;34m\u001b[0m\n",
       "\u001b[0;34m\u001b[0m            \u001b[0mY\u001b[0m \u001b[0;34m=\u001b[0m \u001b[0mcheck_array\u001b[0m\u001b[0;34m(\u001b[0m\u001b[0;34m\u001b[0m\n",
       "\u001b[0;34m\u001b[0m                \u001b[0mY\u001b[0m\u001b[0;34m,\u001b[0m \u001b[0minput_name\u001b[0m\u001b[0;34m=\u001b[0m\u001b[0;34m\"Y\"\u001b[0m\u001b[0;34m,\u001b[0m \u001b[0mensure_2d\u001b[0m\u001b[0;34m=\u001b[0m\u001b[0;32mFalse\u001b[0m\u001b[0;34m,\u001b[0m \u001b[0mcopy\u001b[0m\u001b[0;34m=\u001b[0m\u001b[0mcopy\u001b[0m\u001b[0;34m,\u001b[0m \u001b[0mdtype\u001b[0m\u001b[0;34m=\u001b[0m\u001b[0mFLOAT_DTYPES\u001b[0m\u001b[0;34m\u001b[0m\n",
       "\u001b[0;34m\u001b[0m            \u001b[0;34m)\u001b[0m\u001b[0;34m\u001b[0m\n",
       "\u001b[0;34m\u001b[0m            \u001b[0;32mif\u001b[0m \u001b[0mY\u001b[0m\u001b[0;34m.\u001b[0m\u001b[0mndim\u001b[0m \u001b[0;34m==\u001b[0m \u001b[0;36m1\u001b[0m\u001b[0;34m:\u001b[0m\u001b[0;34m\u001b[0m\n",
       "\u001b[0;34m\u001b[0m                \u001b[0mY\u001b[0m \u001b[0;34m=\u001b[0m \u001b[0mY\u001b[0m\u001b[0;34m.\u001b[0m\u001b[0mreshape\u001b[0m\u001b[0;34m(\u001b[0m\u001b[0;34m-\u001b[0m\u001b[0;36m1\u001b[0m\u001b[0;34m,\u001b[0m \u001b[0;36m1\u001b[0m\u001b[0;34m)\u001b[0m\u001b[0;34m\u001b[0m\n",
       "\u001b[0;34m\u001b[0m            \u001b[0mY\u001b[0m \u001b[0;34m-=\u001b[0m \u001b[0mself\u001b[0m\u001b[0;34m.\u001b[0m\u001b[0m_y_mean\u001b[0m\u001b[0;34m\u001b[0m\n",
       "\u001b[0;34m\u001b[0m            \u001b[0mY\u001b[0m \u001b[0;34m/=\u001b[0m \u001b[0mself\u001b[0m\u001b[0;34m.\u001b[0m\u001b[0m_y_std\u001b[0m\u001b[0;34m\u001b[0m\n",
       "\u001b[0;34m\u001b[0m            \u001b[0my_scores\u001b[0m \u001b[0;34m=\u001b[0m \u001b[0mnp\u001b[0m\u001b[0;34m.\u001b[0m\u001b[0mdot\u001b[0m\u001b[0;34m(\u001b[0m\u001b[0mY\u001b[0m\u001b[0;34m,\u001b[0m \u001b[0mself\u001b[0m\u001b[0;34m.\u001b[0m\u001b[0my_rotations_\u001b[0m\u001b[0;34m)\u001b[0m\u001b[0;34m\u001b[0m\n",
       "\u001b[0;34m\u001b[0m            \u001b[0;32mreturn\u001b[0m \u001b[0mx_scores\u001b[0m\u001b[0;34m,\u001b[0m \u001b[0my_scores\u001b[0m\u001b[0;34m\u001b[0m\n",
       "\u001b[0;34m\u001b[0m\u001b[0;34m\u001b[0m\n",
       "\u001b[0;34m\u001b[0m        \u001b[0;32mreturn\u001b[0m \u001b[0mx_scores\u001b[0m\u001b[0;34m\u001b[0m\u001b[0;34m\u001b[0m\u001b[0m\n",
       "\u001b[0;31mFile:\u001b[0m      /opt/conda/lib/python3.11/site-packages/sklearn/cross_decomposition/_pls.py\n",
       "\u001b[0;31mType:\u001b[0m      method"
      ]
     },
     "metadata": {},
     "output_type": "display_data"
    }
   ],
   "source": [
    "cca.transform??"
   ]
  },
  {
   "cell_type": "code",
   "execution_count": 5,
   "id": "65475d6b-8f77-4160-a1b0-b5f30984c63a",
   "metadata": {},
   "outputs": [
    {
     "data": {
      "text/plain": [
       "(array([[0., 0., 1.],\n",
       "        [1., 0., 0.],\n",
       "        [2., 2., 2.],\n",
       "        [3., 5., 4.]]),\n",
       " array([[ 0.1,  0.1,  1. ],\n",
       "        [ 1.1, -0.1, -0.1],\n",
       "        [ 2. ,  2. ,  2.2],\n",
       "        [ 2.9,  5.2,  4. ]]))"
      ]
     },
     "execution_count": 5,
     "metadata": {},
     "output_type": "execute_result"
    }
   ],
   "source": [
    "X, Y"
   ]
  },
  {
   "cell_type": "code",
   "execution_count": 6,
   "id": "2092f16c-5872-485e-ae3c-1cc9c52e392a",
   "metadata": {},
   "outputs": [
    {
     "data": {
      "text/plain": [
       "array([[-1.14067616,  0.35940397,  0.0323048 ],\n",
       "       [-0.34020166, -0.42864918, -0.14259796],\n",
       "       [ 0.38022539, -0.26084733,  0.18469209],\n",
       "       [ 1.10065243,  0.33009254, -0.07439893]])"
      ]
     },
     "execution_count": 6,
     "metadata": {},
     "output_type": "execute_result"
    }
   ],
   "source": [
    "X_t, Y_t = cca.transform(X, Y)\n",
    "X_t"
   ]
  },
  {
   "cell_type": "code",
   "execution_count": 7,
   "id": "4cf4d6a8-5fa8-4ed7-8f9b-f402f3b54b27",
   "metadata": {},
   "outputs": [
    {
     "data": {
      "text/plain": [
       "array([[-1.14067616,  0.35940397,  0.0323048 ],\n",
       "       [-0.34020166, -0.42864918, -0.14259796],\n",
       "       [ 0.38022539, -0.26084733,  0.18469209],\n",
       "       [ 1.10065243,  0.33009254, -0.07439893]])"
      ]
     },
     "execution_count": 7,
     "metadata": {},
     "output_type": "execute_result"
    }
   ],
   "source": [
    "X_norm = (X - cca._x_mean)/cca._x_std\n",
    "X_c = X_norm @ cca.x_rotations_\n",
    "\n",
    "X_c"
   ]
  },
  {
   "cell_type": "code",
   "execution_count": 8,
   "id": "b36d40f6-9a16-4e1a-ab4b-c74dc257a43b",
   "metadata": {},
   "outputs": [
    {
     "data": {
      "text/plain": [
       "array([[-1.161895  , -0.7406129 , -0.43915503],\n",
       "       [-0.38729833, -0.7406129 , -1.02469508],\n",
       "       [ 0.38729833,  0.10580184,  0.14638501],\n",
       "       [ 1.161895  ,  1.37542395,  1.3174651 ]])"
      ]
     },
     "execution_count": 8,
     "metadata": {},
     "output_type": "execute_result"
    }
   ],
   "source": [
    "X_norm_recovered = X_c @ np.linalg.inv(cca.x_rotations_)\n",
    "X_norm_recovered"
   ]
  },
  {
   "cell_type": "code",
   "execution_count": 9,
   "id": "bfd01e83-f558-46b5-83d7-264462aa3546",
   "metadata": {},
   "outputs": [
    {
     "data": {
      "text/plain": [
       "(array([[0., 0., 1.],\n",
       "        [1., 0., 0.],\n",
       "        [2., 2., 2.],\n",
       "        [3., 5., 4.]]),\n",
       " array([[ 0.0000000e+00,  0.0000000e+00,  1.0000000e+00],\n",
       "        [ 1.0000000e+00,  0.0000000e+00, -4.4408921e-16],\n",
       "        [ 2.0000000e+00,  2.0000000e+00,  2.0000000e+00],\n",
       "        [ 3.0000000e+00,  5.0000000e+00,  4.0000000e+00]]))"
      ]
     },
     "execution_count": 9,
     "metadata": {},
     "output_type": "execute_result"
    }
   ],
   "source": [
    "X_recovered = (X_norm_recovered * cca._x_std) + cca._x_mean\n",
    "X, X_recovered"
   ]
  },
  {
   "cell_type": "code",
   "execution_count": 10,
   "id": "1c54046a-93fa-44a8-adf2-99d347994d3f",
   "metadata": {},
   "outputs": [
    {
     "data": {
      "text/plain": [
       "array([[-1.18647052,  0.38037753,  0.04682323],\n",
       "       [-0.35385963, -0.45366365, -0.20668436],\n",
       "       [ 0.39549017, -0.27606947,  0.26769645],\n",
       "       [ 1.14483998,  0.34935559, -0.10783532]])"
      ]
     },
     "execution_count": 10,
     "metadata": {},
     "output_type": "execute_result"
    }
   ],
   "source": [
    "X_t, Y_t = cca.transform(X, Y)\n",
    "Y_t"
   ]
  },
  {
   "cell_type": "code",
   "execution_count": 11,
   "id": "5fde0ec0-b4a5-4d6f-a66a-6d217a3954e5",
   "metadata": {},
   "outputs": [
    {
     "data": {
      "text/plain": [
       "array([[-1.18647052,  0.38037753,  0.04682323],\n",
       "       [-0.35385963, -0.45366365, -0.20668436],\n",
       "       [ 0.39549017, -0.27606947,  0.26769645],\n",
       "       [ 1.14483998,  0.34935559, -0.10783532]])"
      ]
     },
     "execution_count": 11,
     "metadata": {},
     "output_type": "execute_result"
    }
   ],
   "source": [
    "Y_norm = (Y - cca._y_mean)/cca._y_std\n",
    "Y_c = Y_norm @ cca.y_rotations_\n",
    "\n",
    "Y_c"
   ]
  },
  {
   "cell_type": "code",
   "execution_count": 12,
   "id": "939bc4e9-7186-4f1a-9c5c-671b1810bab1",
   "metadata": {},
   "outputs": [
    {
     "data": {
      "text/plain": [
       "array([[-1.18647052, -0.69210225, -0.44141812],\n",
       "       [-0.35385963, -0.77352604, -1.06794707],\n",
       "       [ 0.39549017,  0.08142379,  0.242068  ],\n",
       "       [ 1.14483998,  1.3842045 ,  1.26729719]])"
      ]
     },
     "execution_count": 12,
     "metadata": {},
     "output_type": "execute_result"
    }
   ],
   "source": [
    "Y_norm_recovered = Y_c @ np.linalg.inv(cca.y_rotations_)\n",
    "Y_norm_recovered"
   ]
  },
  {
   "cell_type": "code",
   "execution_count": 13,
   "id": "3a6445cd-15a4-419f-8c0a-6e657ddc5d5d",
   "metadata": {},
   "outputs": [
    {
     "data": {
      "text/plain": [
       "(array([[ 0.1,  0.1,  1. ],\n",
       "        [ 1.1, -0.1, -0.1],\n",
       "        [ 2. ,  2. ,  2.2],\n",
       "        [ 2.9,  5.2,  4. ]]),\n",
       " array([[ 0.1,  0.1,  1. ],\n",
       "        [ 1.1, -0.1, -0.1],\n",
       "        [ 2. ,  2. ,  2.2],\n",
       "        [ 2.9,  5.2,  4. ]]))"
      ]
     },
     "execution_count": 13,
     "metadata": {},
     "output_type": "execute_result"
    }
   ],
   "source": [
    "Y_recovered = (Y_norm_recovered * cca._y_std) + cca._y_mean\n",
    "Y, Y_recovered"
   ]
  },
  {
   "cell_type": "code",
   "execution_count": 15,
   "id": "fe773441-5f1d-4948-9893-fb0ee69109a6",
   "metadata": {},
   "outputs": [
    {
     "data": {
      "text/plain": [
       "(array([[0., 0., 1.],\n",
       "        [1., 0., 0.],\n",
       "        [2., 2., 2.],\n",
       "        [3., 5., 4.]]),\n",
       " array([[ 0.1,  0.1,  1. ],\n",
       "        [ 1.1, -0.1, -0.1],\n",
       "        [ 2. ,  2. ,  2.2],\n",
       "        [ 2.9,  5.2,  4. ]]),\n",
       " array([[ 0.0000000e+00,  0.0000000e+00,  1.0000000e+00],\n",
       "        [ 1.0000000e+00,  0.0000000e+00, -4.4408921e-16],\n",
       "        [ 2.0000000e+00,  2.0000000e+00,  2.0000000e+00],\n",
       "        [ 3.0000000e+00,  5.0000000e+00,  4.0000000e+00]]),\n",
       " array([[-0.05890888, -0.05574325,  1.00791345],\n",
       "        [ 0.9758576 , -0.08574438, -0.18825948],\n",
       "        [ 2.02413232,  1.99585907,  2.127747  ],\n",
       "        [ 3.05891896,  5.14562856,  4.05259902]]))"
      ]
     },
     "execution_count": 15,
     "metadata": {},
     "output_type": "execute_result"
    }
   ],
   "source": [
    "Yx_norm_recovered = Y_c @ np.linalg.inv(cca.x_rotations_)\n",
    "Yx_recovered = (Yx_norm_recovered * cca._x_std) + cca._x_mean\n",
    "X, Y, X_recovered, Yx_recovered"
   ]
  },
  {
   "cell_type": "code",
   "execution_count": null,
   "id": "7e9ff450-68ff-495d-9fe3-b23a05108564",
   "metadata": {},
   "outputs": [],
   "source": []
  },
  {
   "cell_type": "code",
   "execution_count": null,
   "id": "39b41bb1-3845-49ba-8460-ea9d90d4d30e",
   "metadata": {},
   "outputs": [],
   "source": []
  },
  {
   "cell_type": "code",
   "execution_count": null,
   "id": "e71440b4-c12a-45cb-b7b8-20ad1aadff67",
   "metadata": {},
   "outputs": [],
   "source": []
  },
  {
   "cell_type": "code",
   "execution_count": null,
   "id": "e82db7c9-3a24-4616-948e-d0dadfd29b98",
   "metadata": {},
   "outputs": [],
   "source": []
  },
  {
   "cell_type": "code",
   "execution_count": null,
   "id": "0d42f0c4-8421-4024-a37b-8b992ead0148",
   "metadata": {},
   "outputs": [],
   "source": []
  }
 ],
 "metadata": {
  "kernelspec": {
   "display_name": "Python 3 (ipykernel)",
   "language": "python",
   "name": "python3"
  },
  "language_info": {
   "codemirror_mode": {
    "name": "ipython",
    "version": 3
   },
   "file_extension": ".py",
   "mimetype": "text/x-python",
   "name": "python",
   "nbconvert_exporter": "python",
   "pygments_lexer": "ipython3",
   "version": "3.11.7"
  }
 },
 "nbformat": 4,
 "nbformat_minor": 5
}
